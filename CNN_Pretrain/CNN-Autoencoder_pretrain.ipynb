{
 "cells": [
  {
   "cell_type": "markdown",
   "id": "73584724",
   "metadata": {},
   "source": [
    "# CNN-Pretraining: Self-Supervised Learning with Autoencoder\n",
    "\n",
    "Encoder-Decoder structure, \n",
    "\n",
    "input = output, \n",
    "\n",
    "l2-loss between output and input, \n",
    "\n",
    "decouple decoder, \n",
    "\n",
    "save encoder, \n",
    "\n",
    "load on RL-model and freeze \n"
   ]
  },
  {
   "cell_type": "code",
   "execution_count": 1,
   "id": "5a60ac2d",
   "metadata": {},
   "outputs": [
    {
     "name": "stdout",
     "output_type": "stream",
     "text": [
      "2.4.1\n"
     ]
    }
   ],
   "source": [
    "import tensorflow as tf\n",
    "import matplotlib.pyplot as plt\n",
    "import matplotlib.image as mpimg\n",
    "import numpy as np\n",
    "import math\n",
    "import numba as nb\n",
    "import skimage as io\n",
    "import sklearn as sk\n",
    "import pandas as pd\n",
    "import os\n",
    "\n",
    "from tensorflow.keras.datasets import mnist\n",
    "from tensorflow.keras.callbacks import EarlyStopping, ModelCheckpoint, ReduceLROnPlateau\n",
    "from sklearn.feature_extraction import image\n",
    "from sklearn.datasets import load_sample_image\n",
    "\n",
    "from src.Map.Map import load_map\n",
    "from src.model import Autoencoder, Autoencoder_flex\n",
    "from src.utils import *\n",
    "# from ...src.base.Environment import RandomTargetGenerator, RandomTagrgetGeneratorParams\n",
    "\n"
   ]
  },
  {
   "cell_type": "markdown",
   "id": "agricultural-economics",
   "metadata": {},
   "source": [
    "![autoencoder](../../res/autoencoder.png)\n",
    "\n",
    "![autoencoder_pretrained](../../res/pretrained.png)"
   ]
  },
  {
   "cell_type": "code",
   "execution_count": 7,
   "id": "783b7b57",
   "metadata": {
    "scrolled": false
   },
   "outputs": [
    {
     "name": "stdout",
     "output_type": "stream",
     "text": [
      "<src.Map.Map.Map object at 0x7ff397f21640>\n",
      "(50, 50, 4)\n",
      "0 90\n"
     ]
    },
    {
     "ename": "TypeError",
     "evalue": "Invalid shape (32, 32, 8) for image data",
     "output_type": "error",
     "traceback": [
      "\u001b[0;31m---------------------------------------------------------------------------\u001b[0m",
      "\u001b[0;31mTypeError\u001b[0m                                 Traceback (most recent call last)",
      "\u001b[0;32m<ipython-input-7-f638184e3a47>\u001b[0m in \u001b[0;36m<module>\u001b[0;34m\u001b[0m\n\u001b[1;32m     27\u001b[0m     \u001b[0md\u001b[0m\u001b[0;34m[\u001b[0m\u001b[0;34m\"mh32_\"\u001b[0m \u001b[0;34m+\u001b[0m \u001b[0mstr\u001b[0m\u001b[0;34m(\u001b[0m\u001b[0mangle\u001b[0m\u001b[0;34m)\u001b[0m\u001b[0;34m]\u001b[0m \u001b[0;34m=\u001b[0m \u001b[0mnp\u001b[0m\u001b[0;34m.\u001b[0m\u001b[0mrot90\u001b[0m\u001b[0;34m(\u001b[0m\u001b[0mmh32\u001b[0m\u001b[0;34m,\u001b[0m \u001b[0mi\u001b[0m\u001b[0;34m+\u001b[0m\u001b[0;36m1\u001b[0m\u001b[0;34m,\u001b[0m \u001b[0;34m(\u001b[0m\u001b[0;36m0\u001b[0m\u001b[0;34m,\u001b[0m\u001b[0;36m1\u001b[0m\u001b[0;34m)\u001b[0m\u001b[0;34m)\u001b[0m\u001b[0;34m\u001b[0m\u001b[0;34m\u001b[0m\u001b[0m\n\u001b[1;32m     28\u001b[0m     \u001b[0md\u001b[0m\u001b[0;34m[\u001b[0m\u001b[0;34m\"urb50_\"\u001b[0m \u001b[0;34m+\u001b[0m \u001b[0mstr\u001b[0m\u001b[0;34m(\u001b[0m\u001b[0mangle\u001b[0m\u001b[0;34m)\u001b[0m\u001b[0;34m]\u001b[0m \u001b[0;34m=\u001b[0m \u001b[0mnp\u001b[0m\u001b[0;34m.\u001b[0m\u001b[0mrot90\u001b[0m\u001b[0;34m(\u001b[0m\u001b[0murb50\u001b[0m\u001b[0;34m,\u001b[0m \u001b[0mi\u001b[0m\u001b[0;34m+\u001b[0m\u001b[0;36m1\u001b[0m\u001b[0;34m,\u001b[0m \u001b[0;34m(\u001b[0m\u001b[0;36m0\u001b[0m\u001b[0;34m,\u001b[0m\u001b[0;36m1\u001b[0m\u001b[0;34m)\u001b[0m\u001b[0;34m)\u001b[0m\u001b[0;34m\u001b[0m\u001b[0;34m\u001b[0m\u001b[0m\n\u001b[0;32m---> 29\u001b[0;31m     \u001b[0mshow_images\u001b[0m\u001b[0;34m(\u001b[0m\u001b[0;34m[\u001b[0m\u001b[0md\u001b[0m\u001b[0;34m[\u001b[0m\u001b[0;34m\"mh32_\"\u001b[0m \u001b[0;34m+\u001b[0m \u001b[0mstr\u001b[0m\u001b[0;34m(\u001b[0m\u001b[0mangle\u001b[0m\u001b[0;34m)\u001b[0m\u001b[0;34m]\u001b[0m\u001b[0;34m,\u001b[0m \u001b[0md\u001b[0m\u001b[0;34m[\u001b[0m\u001b[0;34m\"urb50_\"\u001b[0m \u001b[0;34m+\u001b[0m \u001b[0mstr\u001b[0m\u001b[0;34m(\u001b[0m\u001b[0mangle\u001b[0m\u001b[0;34m)\u001b[0m\u001b[0;34m]\u001b[0m\u001b[0;34m]\u001b[0m\u001b[0;34m)\u001b[0m\u001b[0;34m\u001b[0m\u001b[0;34m\u001b[0m\u001b[0m\n\u001b[0m\u001b[1;32m     30\u001b[0m     \u001b[0mimgs\u001b[0m\u001b[0;34m.\u001b[0m\u001b[0mappend\u001b[0m\u001b[0;34m(\u001b[0m\u001b[0md\u001b[0m\u001b[0;34m[\u001b[0m\u001b[0;34m\"mh32_\"\u001b[0m \u001b[0;34m+\u001b[0m \u001b[0mstr\u001b[0m\u001b[0;34m(\u001b[0m\u001b[0mangle\u001b[0m\u001b[0;34m)\u001b[0m\u001b[0;34m]\u001b[0m\u001b[0;34m)\u001b[0m\u001b[0;34m\u001b[0m\u001b[0;34m\u001b[0m\u001b[0m\n\u001b[1;32m     31\u001b[0m     \u001b[0mimgs\u001b[0m\u001b[0;34m.\u001b[0m\u001b[0mappend\u001b[0m\u001b[0;34m(\u001b[0m\u001b[0md\u001b[0m\u001b[0;34m[\u001b[0m\u001b[0;34m\"urb50_\"\u001b[0m \u001b[0;34m+\u001b[0m \u001b[0mstr\u001b[0m\u001b[0;34m(\u001b[0m\u001b[0mangle\u001b[0m\u001b[0;34m)\u001b[0m\u001b[0;34m]\u001b[0m\u001b[0;34m)\u001b[0m\u001b[0;34m\u001b[0m\u001b[0;34m\u001b[0m\u001b[0m\n",
      "\u001b[0;32m~/devel/MA/uavSim/CNN_Pretrain/src/utils.py\u001b[0m in \u001b[0;36mshow_images\u001b[0;34m(images, cols, titles)\u001b[0m\n\u001b[1;32m     26\u001b[0m         \u001b[0;32mif\u001b[0m \u001b[0mimage\u001b[0m\u001b[0;34m.\u001b[0m\u001b[0mndim\u001b[0m \u001b[0;34m==\u001b[0m \u001b[0;36m2\u001b[0m\u001b[0;34m:\u001b[0m\u001b[0;34m\u001b[0m\u001b[0;34m\u001b[0m\u001b[0m\n\u001b[1;32m     27\u001b[0m             \u001b[0mplt\u001b[0m\u001b[0;34m.\u001b[0m\u001b[0mgray\u001b[0m\u001b[0;34m(\u001b[0m\u001b[0;34m)\u001b[0m\u001b[0;34m\u001b[0m\u001b[0;34m\u001b[0m\u001b[0m\n\u001b[0;32m---> 28\u001b[0;31m         \u001b[0mplt\u001b[0m\u001b[0;34m.\u001b[0m\u001b[0mimshow\u001b[0m\u001b[0;34m(\u001b[0m\u001b[0mimage\u001b[0m\u001b[0;34m)\u001b[0m\u001b[0;34m\u001b[0m\u001b[0;34m\u001b[0m\u001b[0m\n\u001b[0m\u001b[1;32m     29\u001b[0m         \u001b[0ma\u001b[0m\u001b[0;34m.\u001b[0m\u001b[0mset_title\u001b[0m\u001b[0;34m(\u001b[0m\u001b[0mtitle\u001b[0m\u001b[0;34m)\u001b[0m\u001b[0;34m\u001b[0m\u001b[0;34m\u001b[0m\u001b[0m\n\u001b[1;32m     30\u001b[0m     \u001b[0mfig\u001b[0m\u001b[0;34m.\u001b[0m\u001b[0mset_size_inches\u001b[0m\u001b[0;34m(\u001b[0m\u001b[0mnp\u001b[0m\u001b[0;34m.\u001b[0m\u001b[0marray\u001b[0m\u001b[0;34m(\u001b[0m\u001b[0mfig\u001b[0m\u001b[0;34m.\u001b[0m\u001b[0mget_size_inches\u001b[0m\u001b[0;34m(\u001b[0m\u001b[0;34m)\u001b[0m\u001b[0;34m)\u001b[0m \u001b[0;34m*\u001b[0m \u001b[0mn_images\u001b[0m\u001b[0;34m)\u001b[0m\u001b[0;34m\u001b[0m\u001b[0;34m\u001b[0m\u001b[0m\n",
      "\u001b[0;32m~/anaconda3/envs/rlvenv/lib/python3.8/site-packages/matplotlib/pyplot.py\u001b[0m in \u001b[0;36mimshow\u001b[0;34m(X, cmap, norm, aspect, interpolation, alpha, vmin, vmax, origin, extent, filternorm, filterrad, resample, url, data, **kwargs)\u001b[0m\n\u001b[1;32m   2722\u001b[0m         \u001b[0mfilternorm\u001b[0m\u001b[0;34m=\u001b[0m\u001b[0;32mTrue\u001b[0m\u001b[0;34m,\u001b[0m \u001b[0mfilterrad\u001b[0m\u001b[0;34m=\u001b[0m\u001b[0;36m4.0\u001b[0m\u001b[0;34m,\u001b[0m \u001b[0mresample\u001b[0m\u001b[0;34m=\u001b[0m\u001b[0;32mNone\u001b[0m\u001b[0;34m,\u001b[0m \u001b[0murl\u001b[0m\u001b[0;34m=\u001b[0m\u001b[0;32mNone\u001b[0m\u001b[0;34m,\u001b[0m\u001b[0;34m\u001b[0m\u001b[0;34m\u001b[0m\u001b[0m\n\u001b[1;32m   2723\u001b[0m         data=None, **kwargs):\n\u001b[0;32m-> 2724\u001b[0;31m     __ret = gca().imshow(\n\u001b[0m\u001b[1;32m   2725\u001b[0m         \u001b[0mX\u001b[0m\u001b[0;34m,\u001b[0m \u001b[0mcmap\u001b[0m\u001b[0;34m=\u001b[0m\u001b[0mcmap\u001b[0m\u001b[0;34m,\u001b[0m \u001b[0mnorm\u001b[0m\u001b[0;34m=\u001b[0m\u001b[0mnorm\u001b[0m\u001b[0;34m,\u001b[0m \u001b[0maspect\u001b[0m\u001b[0;34m=\u001b[0m\u001b[0maspect\u001b[0m\u001b[0;34m,\u001b[0m\u001b[0;34m\u001b[0m\u001b[0;34m\u001b[0m\u001b[0m\n\u001b[1;32m   2726\u001b[0m         \u001b[0minterpolation\u001b[0m\u001b[0;34m=\u001b[0m\u001b[0minterpolation\u001b[0m\u001b[0;34m,\u001b[0m \u001b[0malpha\u001b[0m\u001b[0;34m=\u001b[0m\u001b[0malpha\u001b[0m\u001b[0;34m,\u001b[0m \u001b[0mvmin\u001b[0m\u001b[0;34m=\u001b[0m\u001b[0mvmin\u001b[0m\u001b[0;34m,\u001b[0m\u001b[0;34m\u001b[0m\u001b[0;34m\u001b[0m\u001b[0m\n",
      "\u001b[0;32m~/anaconda3/envs/rlvenv/lib/python3.8/site-packages/matplotlib/__init__.py\u001b[0m in \u001b[0;36minner\u001b[0;34m(ax, data, *args, **kwargs)\u001b[0m\n\u001b[1;32m   1445\u001b[0m     \u001b[0;32mdef\u001b[0m \u001b[0minner\u001b[0m\u001b[0;34m(\u001b[0m\u001b[0max\u001b[0m\u001b[0;34m,\u001b[0m \u001b[0;34m*\u001b[0m\u001b[0margs\u001b[0m\u001b[0;34m,\u001b[0m \u001b[0mdata\u001b[0m\u001b[0;34m=\u001b[0m\u001b[0;32mNone\u001b[0m\u001b[0;34m,\u001b[0m \u001b[0;34m**\u001b[0m\u001b[0mkwargs\u001b[0m\u001b[0;34m)\u001b[0m\u001b[0;34m:\u001b[0m\u001b[0;34m\u001b[0m\u001b[0;34m\u001b[0m\u001b[0m\n\u001b[1;32m   1446\u001b[0m         \u001b[0;32mif\u001b[0m \u001b[0mdata\u001b[0m \u001b[0;32mis\u001b[0m \u001b[0;32mNone\u001b[0m\u001b[0;34m:\u001b[0m\u001b[0;34m\u001b[0m\u001b[0;34m\u001b[0m\u001b[0m\n\u001b[0;32m-> 1447\u001b[0;31m             \u001b[0;32mreturn\u001b[0m \u001b[0mfunc\u001b[0m\u001b[0;34m(\u001b[0m\u001b[0max\u001b[0m\u001b[0;34m,\u001b[0m \u001b[0;34m*\u001b[0m\u001b[0mmap\u001b[0m\u001b[0;34m(\u001b[0m\u001b[0msanitize_sequence\u001b[0m\u001b[0;34m,\u001b[0m \u001b[0margs\u001b[0m\u001b[0;34m)\u001b[0m\u001b[0;34m,\u001b[0m \u001b[0;34m**\u001b[0m\u001b[0mkwargs\u001b[0m\u001b[0;34m)\u001b[0m\u001b[0;34m\u001b[0m\u001b[0;34m\u001b[0m\u001b[0m\n\u001b[0m\u001b[1;32m   1448\u001b[0m \u001b[0;34m\u001b[0m\u001b[0m\n\u001b[1;32m   1449\u001b[0m         \u001b[0mbound\u001b[0m \u001b[0;34m=\u001b[0m \u001b[0mnew_sig\u001b[0m\u001b[0;34m.\u001b[0m\u001b[0mbind\u001b[0m\u001b[0;34m(\u001b[0m\u001b[0max\u001b[0m\u001b[0;34m,\u001b[0m \u001b[0;34m*\u001b[0m\u001b[0margs\u001b[0m\u001b[0;34m,\u001b[0m \u001b[0;34m**\u001b[0m\u001b[0mkwargs\u001b[0m\u001b[0;34m)\u001b[0m\u001b[0;34m\u001b[0m\u001b[0;34m\u001b[0m\u001b[0m\n",
      "\u001b[0;32m~/anaconda3/envs/rlvenv/lib/python3.8/site-packages/matplotlib/axes/_axes.py\u001b[0m in \u001b[0;36mimshow\u001b[0;34m(self, X, cmap, norm, aspect, interpolation, alpha, vmin, vmax, origin, extent, filternorm, filterrad, resample, url, **kwargs)\u001b[0m\n\u001b[1;32m   5521\u001b[0m                               resample=resample, **kwargs)\n\u001b[1;32m   5522\u001b[0m \u001b[0;34m\u001b[0m\u001b[0m\n\u001b[0;32m-> 5523\u001b[0;31m         \u001b[0mim\u001b[0m\u001b[0;34m.\u001b[0m\u001b[0mset_data\u001b[0m\u001b[0;34m(\u001b[0m\u001b[0mX\u001b[0m\u001b[0;34m)\u001b[0m\u001b[0;34m\u001b[0m\u001b[0;34m\u001b[0m\u001b[0m\n\u001b[0m\u001b[1;32m   5524\u001b[0m         \u001b[0mim\u001b[0m\u001b[0;34m.\u001b[0m\u001b[0mset_alpha\u001b[0m\u001b[0;34m(\u001b[0m\u001b[0malpha\u001b[0m\u001b[0;34m)\u001b[0m\u001b[0;34m\u001b[0m\u001b[0;34m\u001b[0m\u001b[0m\n\u001b[1;32m   5525\u001b[0m         \u001b[0;32mif\u001b[0m \u001b[0mim\u001b[0m\u001b[0;34m.\u001b[0m\u001b[0mget_clip_path\u001b[0m\u001b[0;34m(\u001b[0m\u001b[0;34m)\u001b[0m \u001b[0;32mis\u001b[0m \u001b[0;32mNone\u001b[0m\u001b[0;34m:\u001b[0m\u001b[0;34m\u001b[0m\u001b[0;34m\u001b[0m\u001b[0m\n",
      "\u001b[0;32m~/anaconda3/envs/rlvenv/lib/python3.8/site-packages/matplotlib/image.py\u001b[0m in \u001b[0;36mset_data\u001b[0;34m(self, A)\u001b[0m\n\u001b[1;32m    709\u001b[0m         if not (self._A.ndim == 2\n\u001b[1;32m    710\u001b[0m                 or self._A.ndim == 3 and self._A.shape[-1] in [3, 4]):\n\u001b[0;32m--> 711\u001b[0;31m             raise TypeError(\"Invalid shape {} for image data\"\n\u001b[0m\u001b[1;32m    712\u001b[0m                             .format(self._A.shape))\n\u001b[1;32m    713\u001b[0m \u001b[0;34m\u001b[0m\u001b[0m\n",
      "\u001b[0;31mTypeError\u001b[0m: Invalid shape (32, 32, 8) for image data"
     ]
    },
    {
     "data": {
      "image/png": "[encoded data removed]",
      "text/plain": [
       "<Figure size 432x288 with 1 Axes>"
      ]
     },
     "metadata": {
      "needs_background": "light"
     },
     "output_type": "display_data"
    }
   ],
   "source": [
    "map_paths = [\"res/manhattan32.png\",\n",
    "            \"res/urban50.png\"]\n",
    "\n",
    "target_paths = [\"res/manhattan_cpp_target.png\",\n",
    "               \"res/urban_cpp_target.png\"]\n",
    "\n",
    "rotations = [90, 180, 270]\n",
    "map_in = total_map = load_map(map_paths[1])\n",
    "print(map_in)\n",
    "\n",
    "mh32 = mpimg.imread(map_paths[0])\n",
    "urb50 = mpimg.imread(map_paths[1])\n",
    "\n",
    "mh_target = mpimg.imread(target_paths[0])\n",
    "urb_target = mpimg.imread(target_paths[1])\n",
    "print(urb_target.shape)\n",
    "\n",
    "mh32 = np.concatenate((mh32, mh_target), axis=2)\n",
    "urb50 = np.concatenate((urb50, urb_target), axis=2)\n",
    "\n",
    "d={}\n",
    "\n",
    "imgs = [mh32, urb50]\n",
    "\n",
    "for i, angle in enumerate(rotations):\n",
    "    print(i, angle)\n",
    "    d[\"mh32_\" + str(angle)] = np.rot90(mh32, i+1, (0,1))\n",
    "    d[\"urb50_\" + str(angle)] = np.rot90(urb50, i+1, (0,1))\n",
    "    show_images([d[\"mh32_\" + str(angle)], d[\"urb50_\" + str(angle)]])\n",
    "    imgs.append(d[\"mh32_\" + str(angle)]) \n",
    "    imgs.append(d[\"urb50_\" + str(angle)])\n",
    "\n",
    "  \n",
    "# Output Images\n",
    "# plt.imshow(img[0])\n",
    "# plt.imshow(img[1])\n",
    "\n",
    "show_images(imgs)\n",
    "\n",
    "# draw_map(map_path)"
   ]
  },
  {
   "cell_type": "code",
   "execution_count": 3,
   "id": "speaking-peter",
   "metadata": {},
   "outputs": [
    {
     "name": "stdout",
     "output_type": "stream",
     "text": [
      "Patches shape: (14496, 17, 17, 4)\n",
      "Patches shape: (14496, 17, 17, 4)\n"
     ]
    },
    {
     "name": "stderr",
     "output_type": "stream",
     "text": [
      "/home/fede/devel/MA/uavSim/CNN_Pretrain/src/utils.py:25: MatplotlibDeprecationWarning: Passing non-integers as three-element position specification is deprecated since 3.3 and will be removed two minor releases later.\n",
      "  a = fig.add_subplot(cols, np.ceil(n_images / float(cols)), n + 1)\n"
     ]
    },
    {
     "data": {
      "image/png": "[encoded data removed]",
      "text/plain": [
       "<Figure size 2160x1440 with 5 Axes>"
      ]
     },
     "metadata": {
      "needs_background": "light"
     },
     "output_type": "display_data"
    },
    {
     "data": {
      "image/png": "[encoded data removed]",
      "text/plain": [
       "<Figure size 2160x1440 with 5 Axes>"
      ]
     },
     "metadata": {
      "needs_background": "light"
     },
     "output_type": "display_data"
    },
    {
     "name": "stdout",
     "output_type": "stream",
     "text": [
      "Training samples:(11596, 17, 17, 4)\n",
      "Test samples:(2900, 17, 17, 4)\n",
      "(17, 17, 4)\n"
     ]
    }
   ],
   "source": [
    "\"\"\"\n",
    "Prepare Data\n",
    "\"\"\"\n",
    "patches = image.extract_patches_2d(imgs[0], (17, 17))\n",
    "for i in range(len(imgs)-1):\n",
    "    patches = np.concatenate((patches,\n",
    "                              image.extract_patches_2d(imgs[i+1], (17, 17))),\n",
    "                             axis=0)\n",
    "\n",
    "print('Patches shape: {}'.format(patches.shape))\n",
    "\n",
    "axis_array = np.arange(len(patches[0]))\n",
    "\n",
    "shuffled_patches = sk.utils.shuffle(patches)\n",
    "\n",
    "print('Patches shape: {}'.format(patches.shape))\n",
    "\n",
    "n = int(len(patches)*0.8)\n",
    "\n",
    "\n",
    "show_images(patches[:5])\n",
    "show_images(shuffled_patches[:5])\n",
    "\n",
    "X_train = shuffled_patches[:n]\n",
    "X_test = shuffled_patches[-(len(patches)-n):]\n",
    "\n",
    "print(\"Training samples:{}\".format(X_train.shape))\n",
    "print(\"Test samples:{}\".format(X_test.shape))\n",
    "print(X_train[0].shape)\n",
    "# print(X_train[0][0])"
   ]
  },
  {
   "cell_type": "code",
   "execution_count": 4,
   "id": "5a39a1e0",
   "metadata": {},
   "outputs": [
    {
     "name": "stdout",
     "output_type": "stream",
     "text": [
      "5 2\n",
      "(1, 17, 17, 4) (17, 17, 4)\n",
      "Model: \"autoencoder_flex\"\n",
      "_________________________________________________________________\n",
      "Layer (type)                 Output Shape              Param #   \n",
      "=================================================================\n",
      "encoder (Sequential)         (None, 9, 9, 8)           1814      \n",
      "_________________________________________________________________\n",
      "decoder (Sequential)         (1, 17, 17, 4)            2412      \n",
      "=================================================================\n",
      "Total params: 4,226\n",
      "Trainable params: 4,226\n",
      "Non-trainable params: 0\n",
      "_________________________________________________________________\n",
      "Model: \"encoder\"\n",
      "_________________________________________________________________\n",
      "Layer (type)                 Output Shape              Param #   \n",
      "=================================================================\n",
      "0.-encoding_layer (Conv2D)   (None, 13, 13, 6)         606       \n",
      "_________________________________________________________________\n",
      "1.-encoding_layer (Conv2D)   (None, 9, 9, 8)           1208      \n",
      "=================================================================\n",
      "Total params: 1,814\n",
      "Trainable params: 1,814\n",
      "Non-trainable params: 0\n",
      "_________________________________________________________________\n",
      "Model: \"decoder\"\n",
      "_________________________________________________________________\n",
      "Layer (type)                 Output Shape              Param #   \n",
      "=================================================================\n",
      "0.-decoding_layer (Conv2DTra (1, 13, 13, 8)            1608      \n",
      "_________________________________________________________________\n",
      "conv2d_transpose (Conv2DTran (1, 17, 17, 4)            804       \n",
      "=================================================================\n",
      "Total params: 2,412\n",
      "Trainable params: 2,412\n",
      "Non-trainable params: 0\n",
      "_________________________________________________________________\n",
      "WARNING:tensorflow:`epsilon` argument is deprecated and will be removed, use `min_delta` instead.\n"
     ]
    },
    {
     "ename": "NameError",
     "evalue": "name 'Xtr_more' is not defined",
     "output_type": "error",
     "traceback": [
      "\u001b[0;31m---------------------------------------------------------------------------\u001b[0m",
      "\u001b[0;31mNameError\u001b[0m                                 Traceback (most recent call last)",
      "\u001b[0;32m<ipython-input-4-4208631b3ba3>\u001b[0m in \u001b[0;36m<module>\u001b[0;34m\u001b[0m\n\u001b[1;32m     32\u001b[0m         \u001b[0mreduce_lr_loss\u001b[0m \u001b[0;34m=\u001b[0m \u001b[0mReduceLROnPlateau\u001b[0m\u001b[0;34m(\u001b[0m\u001b[0mmonitor\u001b[0m\u001b[0;34m=\u001b[0m\u001b[0;34m'val_loss'\u001b[0m\u001b[0;34m,\u001b[0m \u001b[0mfactor\u001b[0m\u001b[0;34m=\u001b[0m\u001b[0;36m0.1\u001b[0m\u001b[0;34m,\u001b[0m \u001b[0mpatience\u001b[0m\u001b[0;34m=\u001b[0m\u001b[0;36m7\u001b[0m\u001b[0;34m,\u001b[0m \u001b[0mverbose\u001b[0m\u001b[0;34m=\u001b[0m\u001b[0;36m1\u001b[0m\u001b[0;34m,\u001b[0m \u001b[0mepsilon\u001b[0m\u001b[0;34m=\u001b[0m\u001b[0;36m1e-4\u001b[0m\u001b[0;34m,\u001b[0m \u001b[0mmode\u001b[0m\u001b[0;34m=\u001b[0m\u001b[0;34m'min'\u001b[0m\u001b[0;34m)\u001b[0m\u001b[0;34m\u001b[0m\u001b[0;34m\u001b[0m\u001b[0m\n\u001b[1;32m     33\u001b[0m \u001b[0;34m\u001b[0m\u001b[0m\n\u001b[0;32m---> 34\u001b[0;31m         \u001b[0mname\u001b[0m\u001b[0;34m[\u001b[0m\u001b[0;34m\"autoenc_l\"\u001b[0m\u001b[0;34m+\u001b[0m\u001b[0mstr\u001b[0m\u001b[0;34m(\u001b[0m\u001b[0mnum_l\u001b[0m\u001b[0;34m)\u001b[0m\u001b[0;34m+\u001b[0m\u001b[0;34m\"k\"\u001b[0m\u001b[0;34m+\u001b[0m\u001b[0mstr\u001b[0m\u001b[0;34m(\u001b[0m\u001b[0mker_sz\u001b[0m\u001b[0;34m)\u001b[0m\u001b[0;34m]\u001b[0m\u001b[0;34m.\u001b[0m\u001b[0mfit\u001b[0m\u001b[0;34m(\u001b[0m\u001b[0mXtr_more\u001b[0m\u001b[0;34m,\u001b[0m \u001b[0mYtr_more\u001b[0m\u001b[0;34m,\u001b[0m \u001b[0mbatch_size\u001b[0m\u001b[0;34m=\u001b[0m\u001b[0mbatch_size\u001b[0m\u001b[0;34m,\u001b[0m \u001b[0mepochs\u001b[0m\u001b[0;34m=\u001b[0m\u001b[0;36m1500\u001b[0m\u001b[0;34m,\u001b[0m \u001b[0mverbose\u001b[0m\u001b[0;34m=\u001b[0m\u001b[0;36m0\u001b[0m\u001b[0;34m,\u001b[0m \u001b[0mcallbacks\u001b[0m\u001b[0;34m=\u001b[0m\u001b[0;34m[\u001b[0m\u001b[0mearlyStopping\u001b[0m\u001b[0;34m,\u001b[0m \u001b[0mmcp_save\u001b[0m\u001b[0;34m,\u001b[0m \u001b[0mreduce_lr_loss\u001b[0m\u001b[0;34m]\u001b[0m\u001b[0;34m,\u001b[0m \u001b[0mvalidation_split\u001b[0m\u001b[0;34m=\u001b[0m\u001b[0;36m0.25\u001b[0m\u001b[0;34m)\u001b[0m\u001b[0;34m\u001b[0m\u001b[0;34m\u001b[0m\u001b[0m\n\u001b[0m\u001b[1;32m     35\u001b[0m \u001b[0;34m\u001b[0m\u001b[0m\n\u001b[1;32m     36\u001b[0m \u001b[0;34m\u001b[0m\u001b[0m\n",
      "\u001b[0;31mNameError\u001b[0m: name 'Xtr_more' is not defined"
     ]
    }
   ],
   "source": [
    "configs = [[5,[2,3]],\n",
    "           [4,[3,4]],\n",
    "           [3,[3,4,5,6]]\n",
    "          ]\n",
    "name={}\n",
    "\n",
    "for i in range(len(configs)):\n",
    "    for n in range(len(configs[i][1])):\n",
    "        ker_sz = configs[i][0]\n",
    "        num_l = configs[i][1][n]\n",
    "        print(ker_sz, num_l)\n",
    "        \n",
    "        dummy_sample = X_train[0][tf.newaxis, ...]\n",
    "        name[\"autoenc_l\"+str(num_l)+\"k\"+str(ker_sz)] = Autoencoder_flex(num_layers=num_l, kernel_size=ker_sz, inp_shape=X_train[0].shape)\n",
    "        print(dummy_sample.shape, X_train[0].shape)\n",
    "        name[\"autoenc_l\"+str(num_l)+\"k\"+str(ker_sz)].compile(optimizer='adam', loss='mse')\n",
    "        name[\"autoenc_l\"+str(num_l)+\"k\"+str(ker_sz)].build(dummy_sample.shape)\n",
    "\n",
    "        name[\"autoenc_l\"+str(num_l)+\"k\"+str(ker_sz)].summary()\n",
    "        name[\"autoenc_l\"+str(num_l)+\"k\"+str(ker_sz)].encoder.summary()\n",
    "        name[\"autoenc_l\"+str(num_l)+\"k\"+str(ker_sz)].decoder.summary()\n",
    "        \n",
    "#         name[\"autoenc_l\"+str(num_l)+\"k\"+str(ker_sz)].fit(patches, patches,\n",
    "#                 epochs=1500,\n",
    "#                 batch_size=32,\n",
    "#                 shuffle=True,\n",
    "#                 validation_data=(X_test, X_test))\n",
    "        \n",
    "        \n",
    "        earlyStopping = EarlyStopping(monitor='val_loss', patience=10, verbose=0, mode='min')\n",
    "        mcp_save = ModelCheckpoint('.mdl_wts.hdf5', save_best_only=True, monitor='val_loss', mode='min')\n",
    "        reduce_lr_loss = ReduceLROnPlateau(monitor='val_loss', factor=0.1, patience=7, verbose=1, epsilon=1e-4, mode='min')\n",
    "\n",
    "        name[\"autoenc_l\"+str(num_l)+\"k\"+str(ker_sz)].fit(X_train, Y_train, batch_size=batch_size, epochs=1500, verbose=0, callbacks=[earlyStopping, mcp_save, reduce_lr_loss], validation_split=0.25)\n",
    "\n",
    "\n",
    "# dummy_sample = X_train[0][tf.newaxis, ...]\n",
    "# name[\"autoenc_l\"+str(num_l)+\"k\"+str(ker_sz)] = Autoencoder_flex(num_layers=num_l, kernel_size=ker_sz, inp_shape=X_train[0].shape)\n",
    "# print(dummy_sample.shape, X_train[0].shape)\n",
    "# name[\"autoenc_l\"+str(num_l)+\"k\"+str(ker_sz)].compile(optimizer='adam', loss='mse')\n",
    "# name[\"autoenc_l\"+str(num_l)+\"k\"+str(ker_sz)].build(dummy_sample.shape)\n",
    "\n",
    "# name[\"autoenc_l\"+str(num_l)+\"k\"+str(ker_sz)].summary()\n",
    "# name[\"autoenc_l\"+str(num_l)+\"k\"+str(ker_sz)].encoder.summary()\n",
    "# name[\"autoenc_l\"+str(num_l)+\"k\"+str(ker_sz)].decoder.summary()"
   ]
  },
  {
   "cell_type": "code",
   "execution_count": null,
   "id": "terminal-decision",
   "metadata": {},
   "outputs": [],
   "source": [
    "ker_sz = 5\n",
    "num_l = 3\n",
    "\n",
    "dummy_sample = X_train[0][tf.newaxis, ...]\n",
    "name[\"autoenc_l\"+str(num_l)+\"k\"+str(ker_sz)] = Autoencoder_flex(num_layers=num_l, kernel_size=ker_sz, inp_shape=X_train[0].shape)\n",
    "print(dummy_sample.shape, X_train[0].shape)\n",
    "name[\"autoenc_l\"+str(num_l)+\"k\"+str(ker_sz)].compile(optimizer='adam', loss='mse')\n",
    "name[\"autoenc_l\"+str(num_l)+\"k\"+str(ker_sz)].build(dummy_sample.shape)\n",
    "\n",
    "name[\"autoenc_l\"+str(num_l)+\"k\"+str(ker_sz)].summary()\n",
    "name[\"autoenc_l\"+str(num_l)+\"k\"+str(ker_sz)].encoder.summary()\n",
    "name[\"autoenc_l\"+str(num_l)+\"k\"+str(ker_sz)].decoder.summary()\n",
    "\n",
    "name[\"autoenc_l\"+str(num_l)+\"k\"+str(ker_sz)].fit(X_train, X_train,\n",
    "                                                 epochs=1500,\n",
    "                                                 batch_size=32,\n",
    "                                                 shuffle=True,\n",
    "                                                 validation_split=0.2)"
   ]
  },
  {
   "cell_type": "code",
   "execution_count": null,
   "id": "a63c9aad",
   "metadata": {},
   "outputs": [],
   "source": [
    "enc_imgs = name[\"autoenc_f\"+str(ker_sz)].encoder(X_test)\n",
    "print(enc_imgs.shape)\n",
    "\n",
    "dec_imgs = name[\"autoenc_f\"+str(ker_sz)].decoder(enc_imgs).numpy()\n",
    "print(dec_imgs.shape)\n",
    "\n",
    "plot_enc_layer(5, tf.squeeze(enc_imgs[:,:,0])) \n",
    "\n",
    "show_images(X_test[:10])\n",
    "show_images(dec_imgs[:10])\n",
    "compr = enc_imgs.shape[1]*enc_imgs.shape[2]*enc_imgs.shape[3]\n",
    "decompr = dec_imgs.shape[1]*dec_imgs.shape[2]*dec_imgs.shape[3]\n",
    "ratio = compr/decompr\n",
    "print(\" enc: {} \\n org: {} \\n compression ratio: {}\".format(compr, decompr, ratio))\n"
   ]
  },
  {
   "cell_type": "code",
   "execution_count": null,
   "id": "dd2bf78a",
   "metadata": {},
   "outputs": [],
   "source": [
    "autoenc.fit(X_train, X_train,\n",
    "                epochs=1500,\n",
    "                batch_size=32,\n",
    "                shuffle=True,\n",
    "                validation_data=(X_test, X_test))"
   ]
  },
  {
   "cell_type": "code",
   "execution_count": null,
   "id": "6785c41c",
   "metadata": {},
   "outputs": [],
   "source": [
    "enc_imgs = autoenc.encoder(X_test)\n",
    "print(enc_imgs.shape)\n",
    "\n",
    "dec_imgs = autoenc.decoder(enc_imgs).numpy()\n",
    "print(dec_imgs.shape)\n",
    "\n",
    "plot_enc_layer(5, tf.squeeze(enc_imgs[:,:,0])) \n",
    "\n",
    "show_images(X_test[:10])\n",
    "show_images(dec_imgs[:10])\n",
    "compr = enc_imgs.shape[1]*enc_imgs.shape[2]*enc_imgs.shape[3]\n",
    "decompr = dec_imgs.shape[1]*dec_imgs.shape[2]*dec_imgs.shape[3]\n",
    "ratio = compr/decompr\n",
    "print(\" enc: {} \\n org: {} \\n compression ratio: {}\".format(compr, decompr, ratio))\n",
    "\n"
   ]
  },
  {
   "cell_type": "code",
   "execution_count": null,
   "id": "fec0c29f",
   "metadata": {},
   "outputs": [],
   "source": [
    "autoenc.save_weights('./saved_models/autoenc_{}'.format(ratio.2f))"
   ]
  },
  {
   "cell_type": "code",
   "execution_count": null,
   "id": "a0f8c94a",
   "metadata": {},
   "outputs": [],
   "source": [
    "raise SystemExit(\"Stop right there!\")\n",
    "\n",
    "\n",
    "(X_train, _), (X_test, _) = mnist.load_data()\n",
    "print(\"X_train\", X_train.shape)\n",
    "print(\"X_test\", X_test.shape)\n",
    "\n",
    "# print(X_train[0])\n",
    "\n",
    "def pre_process(X):\n",
    "    X = X.astype('float32') /255.0\n",
    "    X = X[..., tf.newaxis]\n",
    "    return X\n",
    "\n",
    "X_train  =  pre_process(X_train)\n",
    "X_test  =  pre_process(X_test)\n",
    "\n",
    "print(\"X_train\", X_train.shape)\n",
    "print(\"X_test\", X_test.shape)\n",
    "\n",
    "print(X_train[0].shape)\n",
    "\n",
    "\n"
   ]
  },
  {
   "cell_type": "code",
   "execution_count": null,
   "id": "4c326f9f",
   "metadata": {},
   "outputs": [],
   "source": [
    "\n",
    "num_model = Autoencoder_flex(num_layers=4, inp_shape=X_train[0].shape, kernel_size=5)\n",
    "num_model.compile(optimizer='adam', loss='mse')\n",
    "\n",
    "num_model.fit(X_train, X_train,\n",
    "                epochs=1,\n",
    "                batch_size=32,\n",
    "                shuffle=True,\n",
    "                validation_data=(X_test, X_test))\n"
   ]
  },
  {
   "cell_type": "code",
   "execution_count": null,
   "id": "932bd86f",
   "metadata": {},
   "outputs": [],
   "source": [
    "num_model.encoder.summary()\n",
    "num_model.decoder.summary()"
   ]
  },
  {
   "cell_type": "code",
   "execution_count": null,
   "id": "strategic-picnic",
   "metadata": {},
   "outputs": [],
   "source": [
    "enc_imgs = num_model.encoder(X_test).numpy()\n",
    "print(enc_imgs.shape)\n",
    "\n",
    "dec_imgs = num_model.decoder(enc_imgs).numpy()\n",
    "print(dec_imgs.shape)\n",
    "\n",
    "plot_bw_figs(10, tf.squeeze(enc_imgs[:,:,0]), \n",
    "             tf.squeeze(dec_imgs),  \n",
    "             tf.squeeze(X_test))\n",
    "print(\"enc: {} \\n org: {}\".format(16*16*8, 28*28))\n"
   ]
  },
  {
   "cell_type": "code",
   "execution_count": null,
   "id": "moderate-bishop",
   "metadata": {},
   "outputs": [],
   "source": []
  },
  {
   "cell_type": "code",
   "execution_count": null,
   "id": "weird-namibia",
   "metadata": {},
   "outputs": [],
   "source": []
  },
  {
   "cell_type": "code",
   "execution_count": null,
   "id": "natural-competition",
   "metadata": {},
   "outputs": [],
   "source": []
  }
 ],
 "metadata": {
  "kernelspec": {
   "display_name": "Python 3 (ipykernel)",
   "language": "python",
   "name": "python3"
  },
  "language_info": {
   "codemirror_mode": {
    "name": "ipython",
    "version": 3
   },
   "file_extension": ".py",
   "mimetype": "text/x-python",
   "name": "python",
   "nbconvert_exporter": "python",
   "pygments_lexer": "ipython3",
   "version": "3.9.5"
  }
 },
 "nbformat": 4,
 "nbformat_minor": 5
}
