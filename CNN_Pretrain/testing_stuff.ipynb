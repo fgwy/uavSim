{
 "cells": [
  {
   "cell_type": "code",
   "execution_count": 34,
   "id": "widespread-grace",
   "metadata": {},
   "outputs": [],
   "source": [
    "import tensorflow as tf\n",
    "import numpy as np\n"
   ]
  },
  {
   "cell_type": "code",
   "execution_count": 75,
   "id": "royal-feedback",
   "metadata": {},
   "outputs": [
    {
     "name": "stdout",
     "output_type": "stream",
     "text": [
      "[[0.97345827 0.60860596 0.77101329 0.28135506]\n",
      " [0.19531949 0.86739879 0.43878099 0.69424228]\n",
      " [0.16898853 0.76254908 0.05869302 0.0375744 ]\n",
      " [0.67791731 0.22029692 0.81170293 0.19097012]] \n",
      " tf.Tensor([0 1 3 1], shape=(4,), dtype=int64)\n",
      "tf.Tensor([0 1 1 2], shape=(4,), dtype=int64) tf.Tensor(0.9734582655008852, shape=(), dtype=float64)\n",
      "tf.Tensor([0 1 1 2], shape=(4,), dtype=int64) (4,)\n"
     ]
    }
   ],
   "source": [
    "goal_size = 4\n",
    "example_goal = np.zeros((goal_size,goal_size))\n",
    "example_goal = np.random.rand(4,4)\n",
    "# example_goal[0][0] = 1\n",
    "\n",
    "np.random.shuffle(example_goal[0])\n",
    "print(example_goal, '\\n', tf.argmax(example_goal))\n",
    "\n",
    "# np.random.shuffle(example_goal)\n",
    "example_goal = tf.convert_to_tensor(example_goal)\n",
    "print(tf.argmax(example_goal, 1), tf.reduce_max(example_goal))\n",
    "highest_vals_per_col = tf.argmax(example_goal, 1)\n",
    "print(highest_vals_per_col, highest_vals_per_col.shape)\n",
    "\n",
    "# max_value = max(example_goal)\n",
    "# max_index = my_list.index(max_value)"
   ]
  },
  {
   "cell_type": "code",
   "execution_count": 64,
   "id": "spare-sally",
   "metadata": {},
   "outputs": [
    {
     "name": "stdout",
     "output_type": "stream",
     "text": [
      "0 (4, 4)\n"
     ]
    },
    {
     "ename": "TypeError",
     "evalue": "'builtin_function_or_method' object is not subscriptable",
     "output_type": "error",
     "traceback": [
      "\u001b[0;31m---------------------------------------------------------------------------\u001b[0m",
      "\u001b[0;31mTypeError\u001b[0m                                 Traceback (most recent call last)",
      "\u001b[0;32m<ipython-input-64-d5b2692ea984>\u001b[0m in \u001b[0;36m<module>\u001b[0;34m\u001b[0m\n\u001b[1;32m      3\u001b[0m     \u001b[0mprint\u001b[0m\u001b[0;34m(\u001b[0m\u001b[0mi\u001b[0m\u001b[0;34m,\u001b[0m \u001b[0mexample_goal\u001b[0m\u001b[0;34m.\u001b[0m\u001b[0mshape\u001b[0m\u001b[0;34m)\u001b[0m\u001b[0;34m\u001b[0m\u001b[0;34m\u001b[0m\u001b[0m\n\u001b[1;32m      4\u001b[0m     \u001b[0ma\u001b[0m \u001b[0;34m=\u001b[0m \u001b[0mhighest_vals_per_col\u001b[0m\u001b[0;34m.\u001b[0m\u001b[0mdata\u001b[0m\u001b[0;34m[\u001b[0m\u001b[0mi\u001b[0m\u001b[0;34m]\u001b[0m\u001b[0;34m\u001b[0m\u001b[0;34m\u001b[0m\u001b[0m\n\u001b[0;32m----> 5\u001b[0;31m     \u001b[0mprint\u001b[0m\u001b[0;34m[\u001b[0m\u001b[0ma\u001b[0m\u001b[0;34m]\u001b[0m\u001b[0;34m\u001b[0m\u001b[0;34m\u001b[0m\u001b[0m\n\u001b[0m\u001b[1;32m      6\u001b[0m     \u001b[0mplace_h\u001b[0m\u001b[0;34m[\u001b[0m\u001b[0mi\u001b[0m\u001b[0;34m]\u001b[0m \u001b[0;34m=\u001b[0m \u001b[0;34m[\u001b[0m\u001b[0mexample_goal\u001b[0m\u001b[0;34m[\u001b[0m\u001b[0;36m0\u001b[0m\u001b[0;34m]\u001b[0m\u001b[0;34m[\u001b[0m\u001b[0ma\u001b[0m\u001b[0;34m]\u001b[0m\u001b[0;34m]\u001b[0m\u001b[0;34m\u001b[0m\u001b[0;34m\u001b[0m\u001b[0m\n\u001b[1;32m      7\u001b[0m \u001b[0;34m\u001b[0m\u001b[0m\n",
      "\u001b[0;31mTypeError\u001b[0m: 'builtin_function_or_method' object is not subscriptable"
     ]
    }
   ],
   "source": [
    "place_h = []\n",
    "# for i in range(goal_size):\n",
    "#     print(i, example_goal.shape)\n",
    "#     a = highest_vals_per_col.data[i]\n",
    "#     print[a]\n",
    "#     place_h[i] = [example_goal[0][a]]\n",
    "    \n",
    "one_hot_idx = tf.argmax(place_h)\n",
    "print(one_hot_idx)\n",
    "one_hot = tf.one_hot(tf.argmax(example_goal), depth=4, dtype=float, on_value=1.0, off_value=0.0)\n",
    "print(one_hot)\n",
    "one_hot = tf.squeeze(one_hot)\n",
    "print(one_hot)\n",
    "\n",
    "\n",
    "a\n"
   ]
  },
  {
   "cell_type": "code",
   "execution_count": null,
   "id": "faced-zimbabwe",
   "metadata": {},
   "outputs": [],
   "source": []
  },
  {
   "cell_type": "code",
   "execution_count": null,
   "id": "republican-thumb",
   "metadata": {},
   "outputs": [],
   "source": []
  }
 ],
 "metadata": {
  "kernelspec": {
   "display_name": "Python 3",
   "language": "python",
   "name": "python3"
  },
  "language_info": {
   "codemirror_mode": {
    "name": "ipython",
    "version": 3
   },
   "file_extension": ".py",
   "mimetype": "text/x-python",
   "name": "python",
   "nbconvert_exporter": "python",
   "pygments_lexer": "ipython3",
   "version": "3.8.5"
  }
 },
 "nbformat": 4,
 "nbformat_minor": 5
}
