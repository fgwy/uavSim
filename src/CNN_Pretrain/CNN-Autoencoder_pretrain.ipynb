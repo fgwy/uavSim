{
 "cells": [
  {
   "cell_type": "markdown",
   "id": "73584724",
   "metadata": {},
   "source": [
    "# CNN-Pretraining: Self-Supervised Learning with Autoencoder\n",
    "\n",
    "Encoder-Decoder structure, \n",
    "\n",
    "input = output, \n",
    "\n",
    "l2-loss between output and input, \n",
    "\n",
    "decouple decoder, \n",
    "\n",
    "save encoder, \n",
    "\n",
    "load on RL-model and freeze \n"
   ]
  },
  {
   "cell_type": "code",
   "execution_count": 2,
   "id": "5a60ac2d",
   "metadata": {},
   "outputs": [],
   "source": [
    "import tensorflow as tf\n",
    "import matplotlib as plt\n",
    "import numpy as np\n",
    "import math\n",
    "import numba as nb\n",
    "import skimage as io\n",
    "\n",
    "import pandas as pd\n",
    "import os\n",
    "import matplotlib.pyplot as plt\n",
    "from keras.datasets import mnist\n",
    "from keras.layers import Input, Dense, Conv2D, MaxPooling2D, UpSampling2D, Conv2DTranspose\n",
    "from keras.models import Model\n",
    "from keras.preprocessing import image\n",
    "\n"
   ]
  },
  {
   "cell_type": "markdown",
   "id": "agricultural-economics",
   "metadata": {},
   "source": [
    "![autoencoder](../../res/autoencoder.png)\n",
    "\n",
    "![autoencoder_pretrained](../../res/pretrained.png)"
   ]
  },
  {
   "cell_type": "code",
   "execution_count": null,
   "id": "783b7b57",
   "metadata": {},
   "outputs": [],
   "source": [
    "def show_data(X, n=10, height=28, width=28, title=\"\"):\n",
    "    plt.figure(figsize=(10, 3))\n",
    "    for i in range(n):\n",
    "        ax = plt.subplot(2,n,i+1)\n",
    "        plt.imshow(X[i].reshape((height,width)))\n",
    "        plt.gray()\n",
    "        ax.get_xaxis().set_visible(False)\n",
    "        ax.get_yaxis().set_visible(False)\n",
    "    plt.suptitle(title, fontsize = 20)"
   ]
  },
  {
   "cell_type": "code",
   "execution_count": null,
   "id": "regulated-colombia",
   "metadata": {},
   "outputs": [],
   "source": [
    "\"\"\"\n",
    "Prepare Data\n",
    "\"\"\"\n",
    "\n"
   ]
  },
  {
   "cell_type": "code",
   "execution_count": null,
   "id": "5a39a1e0",
   "metadata": {},
   "outputs": [],
   "source": [
    "show_data(X_train, title=\"train data\")\n",
    "show_data(X_test, title=\"test data\")"
   ]
  },
  {
   "cell_type": "code",
   "execution_count": null,
   "id": "6785c41c",
   "metadata": {},
   "outputs": [],
   "source": [
    "input_layer = Input(shape=(128, 128, 3), name=\"INPUT\")\n",
    "x = Conv2D(16, (3, 3), activation='relu', padding='same')(input_layer)\n",
    "x = MaxPooling2D((2, 2))(x)\n",
    "x = Conv2D(8, (3, 3), activation='relu', padding='same')(x)\n",
    "x = MaxPooling2D((2, 2))(x)\n",
    "x = Conv2D(8, (3, 3), activation='relu', padding='same')(x)\n",
    "\n",
    "code_layer = MaxPooling2D((2, 2), name=\"CODE\")(x)\n",
    "\n",
    "x = Conv2DTranspose(8, (3, 3), activation='relu', padding='same')(code_layer)\n",
    "x = UpSampling2D((2, 2))(x)\n",
    "x = Conv2DTranspose(8, (3, 3), activation='relu', padding='same')(x)\n",
    "x = UpSampling2D((2, 2))(x)\n",
    "x = Conv2DTranspose(16, (3, 3), activation='relu', padding='same')(x)\n",
    "x = UpSampling2D((2,2))(x)\n",
    "output_layer = Conv2D(3, (3, 3), padding='same', name=\"OUTPUT\")(x)\n",
    "\n",
    "\n",
    "\n",
    "cat_AE = Model(input_layer, output_layer)\n",
    "cat_AE.compile(optimizer='adam', loss='mse')\n",
    "cat_AE.summary()\n",
    "\n",
    "\n",
    "\n",
    "\n",
    "cat_AE.fit(cat_train, cat_train,\n",
    "                epochs=30,\n",
    "                batch_size=32,\n",
    "                shuffle=True,\n",
    "                validation_data=(cat_test, cat_test))\n",
    "\n",
    "\n",
    "\n",
    "cat_AE.save(\"cat_AE.h5\")\n",
    "\n",
    "\n",
    "reconstructed_cats = cat_AE.predict(cat_test)\n",
    "\n",
    "\n",
    "\n",
    "\n",
    "show_cat_data(cat_test, title=\"original cats\")\n",
    "show_data(encoded_cat, height=32, width=64, title=\"encoded cats\")\n",
    "show_cat_data(reconstructed_cats, title=\"reconstructed cats\")\n",
    "\n"
   ]
  },
  {
   "cell_type": "code",
   "execution_count": null,
   "id": "a0f8c94a",
   "metadata": {},
   "outputs": [],
   "source": [
    "decoded_data = AE.predict(X_test)"
   ]
  },
  {
   "cell_type": "code",
   "execution_count": null,
   "id": "4c326f9f",
   "metadata": {},
   "outputs": [],
   "source": [
    "get_encoded_data = Model(inputs=AE.input, outputs=AE.get_layer(\"CODE\").output)"
   ]
  },
  {
   "cell_type": "code",
   "execution_count": null,
   "id": "932bd86f",
   "metadata": {},
   "outputs": [],
   "source": [
    "encoded_data = get_encoded_data.predict(X_test)"
   ]
  },
  {
   "cell_type": "code",
   "execution_count": null,
   "id": "a385f7a3",
   "metadata": {},
   "outputs": [],
   "source": [
    "show_data(X_test, title=\"original data\")\n",
    "show_data(encoded_data, height=10, width=10, title=\"encoded data\")\n",
    "show_data(decoded_data, title=\"decoded data\")"
   ]
  },
  {
   "cell_type": "code",
   "execution_count": null,
   "id": "66d67653",
   "metadata": {},
   "outputs": [],
   "source": []
  }
 ],
 "metadata": {
  "kernelspec": {
   "display_name": "Python 3",
   "language": "python",
   "name": "python3"
  },
  "language_info": {
   "codemirror_mode": {
    "name": "ipython",
    "version": 3
   },
   "file_extension": ".py",
   "mimetype": "text/x-python",
   "name": "python",
   "nbconvert_exporter": "python",
   "pygments_lexer": "ipython3",
   "version": "3.8.5"
  }
 },
 "nbformat": 4,
 "nbformat_minor": 5
}
